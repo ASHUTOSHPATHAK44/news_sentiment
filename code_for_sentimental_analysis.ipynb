{
 "cells": [
  {
   "cell_type": "code",
   "execution_count": 1,
   "id": "6f6d8ffc",
   "metadata": {},
   "outputs": [
    {
     "name": "stdout",
     "output_type": "stream",
     "text": [
      "1 Hours after ouster as CBI chief, Alok Verma’s phone numbers made it to Pegasus list: Report\n",
      "article description\n",
      "“Also added to the list of numbers at the same time as Verma were two other senior CBI officials, Rakesh Asthana and A.K. Sharma...,” news portal The Wire claimed in a report.\n",
      "Sentiment(polarity=-0.0625, subjectivity=0.25)\n",
      "negative\n",
      "2 Xi Jinping visits Tibet border region, first by Chinese leader in years\n",
      "article description\n",
      "He inspects newly opened and strategically important railway line\n",
      "Sentiment(polarity=0.2681818181818182, subjectivity=0.7272727272727273)\n",
      "positive\n",
      "3 Six Ministers huddle with Yediyurappa, but say they will abide by party decision\n",
      "article description\n",
      "They had played a key role in bringing BJP to power\n",
      "Sentiment(polarity=0.0, subjectivity=1.0)\n",
      "netural\n",
      "4 Parliament proceedings updates | Govt. to move motion seeking suspension of TMC MP today\n",
      "article description\n",
      "The proceedings of both the Houses of Parliament remained paralysed in the first four days of Monsoon session as Opposition members protested over a number of issues including the Pegasus snooping con\n",
      "Sentiment(polarity=0.25, subjectivity=0.3333333333333333)\n",
      "positive\n",
      "5 Coronavirus live updates | Schools in Rajasthan to reopen from August 2\n",
      "article description\n",
      "More than half of all European adults are now fully vaccinated, the EU said on Thursday, as countries across Europe and Asia battled fresh outbreaks blamed on the fast-spreading Delta variant.\n",
      "Sentiment(polarity=0.15833333333333333, subjectivity=0.29166666666666663)\n",
      "positive\n",
      "6 Dalai Lama’s close aides targeted on Pegasus spyware list\n",
      "article description\n",
      "‘Analysis indicates that the Indian govt. was selecting the potential targets’\n",
      "Sentiment(polarity=0.0, subjectivity=1.0)\n",
      "netural\n",
      "7 Parliament paralysed over Pegasus, farm laws\n",
      "article description\n",
      "Trinamool member tears IT Minister’s statement on spyware.\n",
      "Sentiment(polarity=0.0, subjectivity=0.0)\n",
      "netural\n",
      "8 Tokyo Olympics | Deepika ninth in ranking round; Koreans top-two\n",
      "article description\n",
      "The performances will determine the seedings for the elimination rounds.\n",
      "Sentiment(polarity=0.0, subjectivity=0.0)\n",
      "netural\n",
      "9 Limits of cooperation: On reforms in cooperative sector\n",
      "article description\n",
      "Reforms in cooperative sector should not be at the cost of federal principles\n",
      "Sentiment(polarity=0.0, subjectivity=0.0)\n",
      "netural\n",
      "10 In search of gold: On Tokyo Olympics\n",
      "article description\n",
      "The Olympic Games remain the greatest sporting event for fans and athletes alike\n",
      "Sentiment(polarity=1.0, subjectivity=1.0)\n",
      "positive\n"
     ]
    }
   ],
   "source": [
    "# importing requests package\n",
    "import requests\n",
    "from textblob import TextBlob\n",
    "#api used is newsapi\n",
    "# following query parameters are used\n",
    "# source, sortBy and apiKey\n",
    "query_params = {\n",
    "\"source\": \"the-hindu\",\n",
    "\"sortBy\": \"top\",\n",
    "\"apiKey\": \"995e7b64f86d428a9d15c33ca4d477a5\"\n",
    "}\n",
    "main_url = \" https://newsapi.org/v1/articles\"\n",
    "\n",
    "\n",
    "\n",
    "# fetching data in json format\n",
    "res = requests.get(main_url, params=query_params)\n",
    "open_the_hindu_page = res.json()\n",
    "#print(open_bbc_page)\n",
    "# getting all articles in a string article\n",
    "article = open_the_hindu_page[\"articles\"]\n",
    "# empty list which will\n",
    "# contain all trending news\n",
    "results = [] #store the articles headlines\n",
    "results_title_discription=[]   #store the description of it\n",
    "\n",
    "\n",
    "for ar in article:\n",
    "    results.append(ar[\"title\"])\n",
    "for ar_d in article:\n",
    "    results_title_discription.append(ar_d[\"description\"])\n",
    "\n",
    "\n",
    "posi_senti=0\n",
    "nega_senti=0\n",
    "nutrl_senti=0\n",
    "all_polarity_arry=[]\n",
    "for i in range(len(results)):\n",
    "        # printing all trending news\n",
    "        print(i + 1, results[i])\n",
    "        print('article description')\n",
    "        print( results_title_discription[i])\n",
    "\n",
    "        #sentimental analysis \n",
    "\n",
    "        analysis=TextBlob(results_title_discription[i])\n",
    "\n",
    "        print(analysis.sentiment)\n",
    "        \n",
    "        if analysis.sentiment[0]>0:\n",
    "            print('positive')\n",
    "            posi_senti+=1\n",
    "            all_polarity_arry.append(analysis.sentiment.polarity)\n",
    "\n",
    "        elif analysis.sentiment[0]<0:\n",
    "            print('negative')\n",
    "            nega_senti+=1\n",
    "            all_polarity_arry.append(analysis.sentiment.polarity)\n",
    "        else:\n",
    "            print('netural')\n",
    "            nutrl_senti+=1\n",
    "            all_polarity_arry.append(analysis.sentiment.polarity)\n",
    "\n"
   ]
  },
  {
   "cell_type": "code",
   "execution_count": 5,
   "id": "2c19b3eb",
   "metadata": {},
   "outputs": [
    {
     "name": "stdout",
     "output_type": "stream",
     "text": [
      "no of positive sentiments 4\n",
      "no of positive sentiments 1\n",
      "no of positive sentiments 5\n"
     ]
    },
    {
     "data": {
      "image/png": "[encoded data removed]",
      "text/plain": [
       "<Figure size 432x288 with 1 Axes>"
      ]
     },
     "metadata": {
      "needs_background": "light"
     },
     "output_type": "display_data"
    }
   ],
   "source": [
    "#ploting the aritcle vs its polarity\n",
    "\n",
    "import numpy as np\n",
    "import matplotlib.pyplot as plt\n",
    "\n",
    "print('no of positive sentiments',posi_senti)\n",
    "print('no of positive sentiments',nega_senti)\n",
    "print('no of positive sentiments',nutrl_senti)\n",
    "\n",
    "l=np.arange(1,len(results)+1)\n",
    "plt.bar(l,all_polarity_arry,color='red')\n",
    "plt.show()"
   ]
  },
  {
   "cell_type": "code",
   "execution_count": null,
   "id": "4da212e5",
   "metadata": {},
   "outputs": [],
   "source": []
  }
 ],
 "metadata": {
  "kernelspec": {
   "display_name": "Python 3 (ipykernel)",
   "language": "python",
   "name": "python3"
  },
  "language_info": {
   "codemirror_mode": {
    "name": "ipython",
    "version": 3
   },
   "file_extension": ".py",
   "mimetype": "text/x-python",
   "name": "python",
   "nbconvert_exporter": "python",
   "pygments_lexer": "ipython3",
   "version": "3.9.12"
  }
 },
 "nbformat": 4,
 "nbformat_minor": 5
}
